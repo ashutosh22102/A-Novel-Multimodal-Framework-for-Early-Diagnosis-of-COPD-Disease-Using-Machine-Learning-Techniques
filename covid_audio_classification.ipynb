{
 "cells": [
  {
   "attachments": {},
   "cell_type": "markdown",
   "metadata": {},
   "source": [
    "# Preprocess the data"
   ]
  },
  {
   "cell_type": "code",
   "execution_count": 1,
   "metadata": {},
   "outputs": [
    {
     "data": {
      "text/html": [
       "<div>\n",
       "<style scoped>\n",
       "    .dataframe tbody tr th:only-of-type {\n",
       "        vertical-align: middle;\n",
       "    }\n",
       "\n",
       "    .dataframe tbody tr th {\n",
       "        vertical-align: top;\n",
       "    }\n",
       "\n",
       "    .dataframe thead th {\n",
       "        text-align: right;\n",
       "    }\n",
       "</style>\n",
       "<table border=\"1\" class=\"dataframe\">\n",
       "  <thead>\n",
       "    <tr style=\"text-align: right;\">\n",
       "      <th></th>\n",
       "      <th>id</th>\n",
       "      <th>a</th>\n",
       "      <th>covid_status</th>\n",
       "      <th>record_date</th>\n",
       "      <th>ep</th>\n",
       "      <th>g</th>\n",
       "      <th>l_c</th>\n",
       "      <th>l_l</th>\n",
       "      <th>l_s</th>\n",
       "      <th>rU</th>\n",
       "      <th>...</th>\n",
       "      <th>vacc</th>\n",
       "      <th>bd</th>\n",
       "      <th>others_resp</th>\n",
       "      <th>ftg</th>\n",
       "      <th>st</th>\n",
       "      <th>ihd</th>\n",
       "      <th>asthma</th>\n",
       "      <th>others_preexist</th>\n",
       "      <th>cld</th>\n",
       "      <th>pneumonia</th>\n",
       "    </tr>\n",
       "  </thead>\n",
       "  <tbody>\n",
       "    <tr>\n",
       "      <th>0</th>\n",
       "      <td>iV3Db6t1T8b7c5HQY2TwxIhjbzD3</td>\n",
       "      <td>28</td>\n",
       "      <td>healthy</td>\n",
       "      <td>2020-04-23</td>\n",
       "      <td>y</td>\n",
       "      <td>male</td>\n",
       "      <td>India</td>\n",
       "      <td>Anantapur</td>\n",
       "      <td>Andhra Pradesh</td>\n",
       "      <td>n</td>\n",
       "      <td>...</td>\n",
       "      <td>NaN</td>\n",
       "      <td>NaN</td>\n",
       "      <td>NaN</td>\n",
       "      <td>NaN</td>\n",
       "      <td>NaN</td>\n",
       "      <td>NaN</td>\n",
       "      <td>NaN</td>\n",
       "      <td>NaN</td>\n",
       "      <td>NaN</td>\n",
       "      <td>NaN</td>\n",
       "    </tr>\n",
       "    <tr>\n",
       "      <th>1</th>\n",
       "      <td>AxuYWBN0jFVLINCBqIW5aZmGCdu1</td>\n",
       "      <td>25</td>\n",
       "      <td>healthy</td>\n",
       "      <td>2020-04-20</td>\n",
       "      <td>y</td>\n",
       "      <td>male</td>\n",
       "      <td>India</td>\n",
       "      <td>BENGALURU URBAN</td>\n",
       "      <td>Karnataka</td>\n",
       "      <td>n</td>\n",
       "      <td>...</td>\n",
       "      <td>NaN</td>\n",
       "      <td>NaN</td>\n",
       "      <td>NaN</td>\n",
       "      <td>NaN</td>\n",
       "      <td>NaN</td>\n",
       "      <td>NaN</td>\n",
       "      <td>NaN</td>\n",
       "      <td>NaN</td>\n",
       "      <td>NaN</td>\n",
       "      <td>NaN</td>\n",
       "    </tr>\n",
       "    <tr>\n",
       "      <th>2</th>\n",
       "      <td>C5eIsssb9GSkaAgIfsHMHeR6fSh1</td>\n",
       "      <td>28</td>\n",
       "      <td>healthy</td>\n",
       "      <td>2020-04-24</td>\n",
       "      <td>y</td>\n",
       "      <td>female</td>\n",
       "      <td>United States</td>\n",
       "      <td>Pittsburgh</td>\n",
       "      <td>Pennsylvania</td>\n",
       "      <td>n</td>\n",
       "      <td>...</td>\n",
       "      <td>NaN</td>\n",
       "      <td>NaN</td>\n",
       "      <td>NaN</td>\n",
       "      <td>NaN</td>\n",
       "      <td>NaN</td>\n",
       "      <td>NaN</td>\n",
       "      <td>NaN</td>\n",
       "      <td>NaN</td>\n",
       "      <td>NaN</td>\n",
       "      <td>NaN</td>\n",
       "    </tr>\n",
       "    <tr>\n",
       "      <th>3</th>\n",
       "      <td>YjbEAECMBIaZKyfqOvWy5DDImUb2</td>\n",
       "      <td>26</td>\n",
       "      <td>healthy</td>\n",
       "      <td>2020-04-23</td>\n",
       "      <td>y</td>\n",
       "      <td>male</td>\n",
       "      <td>India</td>\n",
       "      <td>Bangalore</td>\n",
       "      <td>Karnataka</td>\n",
       "      <td>n</td>\n",
       "      <td>...</td>\n",
       "      <td>NaN</td>\n",
       "      <td>NaN</td>\n",
       "      <td>NaN</td>\n",
       "      <td>NaN</td>\n",
       "      <td>NaN</td>\n",
       "      <td>NaN</td>\n",
       "      <td>NaN</td>\n",
       "      <td>NaN</td>\n",
       "      <td>NaN</td>\n",
       "      <td>NaN</td>\n",
       "    </tr>\n",
       "    <tr>\n",
       "      <th>4</th>\n",
       "      <td>aGOvk4ji0cVqIzCs1jHnzlw2UEy2</td>\n",
       "      <td>32</td>\n",
       "      <td>healthy</td>\n",
       "      <td>2020-04-22</td>\n",
       "      <td>y</td>\n",
       "      <td>male</td>\n",
       "      <td>India</td>\n",
       "      <td>Nalanda</td>\n",
       "      <td>Bihar</td>\n",
       "      <td>n</td>\n",
       "      <td>...</td>\n",
       "      <td>NaN</td>\n",
       "      <td>NaN</td>\n",
       "      <td>NaN</td>\n",
       "      <td>NaN</td>\n",
       "      <td>NaN</td>\n",
       "      <td>NaN</td>\n",
       "      <td>NaN</td>\n",
       "      <td>NaN</td>\n",
       "      <td>NaN</td>\n",
       "      <td>NaN</td>\n",
       "    </tr>\n",
       "  </tbody>\n",
       "</table>\n",
       "<p>5 rows × 36 columns</p>\n",
       "</div>"
      ],
      "text/plain": [
       "                             id   a covid_status record_date ep       g  \\\n",
       "0  iV3Db6t1T8b7c5HQY2TwxIhjbzD3  28      healthy  2020-04-23  y    male   \n",
       "1  AxuYWBN0jFVLINCBqIW5aZmGCdu1  25      healthy  2020-04-20  y    male   \n",
       "2  C5eIsssb9GSkaAgIfsHMHeR6fSh1  28      healthy  2020-04-24  y  female   \n",
       "3  YjbEAECMBIaZKyfqOvWy5DDImUb2  26      healthy  2020-04-23  y    male   \n",
       "4  aGOvk4ji0cVqIzCs1jHnzlw2UEy2  32      healthy  2020-04-22  y    male   \n",
       "\n",
       "             l_c              l_l             l_s rU  ... vacc   bd  \\\n",
       "0          India        Anantapur  Andhra Pradesh  n  ...  NaN  NaN   \n",
       "1          India  BENGALURU URBAN       Karnataka  n  ...  NaN  NaN   \n",
       "2  United States       Pittsburgh    Pennsylvania  n  ...  NaN  NaN   \n",
       "3          India        Bangalore       Karnataka  n  ...  NaN  NaN   \n",
       "4          India          Nalanda           Bihar  n  ...  NaN  NaN   \n",
       "\n",
       "  others_resp  ftg   st  ihd asthma  others_preexist  cld pneumonia  \n",
       "0         NaN  NaN  NaN  NaN    NaN              NaN  NaN       NaN  \n",
       "1         NaN  NaN  NaN  NaN    NaN              NaN  NaN       NaN  \n",
       "2         NaN  NaN  NaN  NaN    NaN              NaN  NaN       NaN  \n",
       "3         NaN  NaN  NaN  NaN    NaN              NaN  NaN       NaN  \n",
       "4         NaN  NaN  NaN  NaN    NaN              NaN  NaN       NaN  \n",
       "\n",
       "[5 rows x 36 columns]"
      ]
     },
     "execution_count": 1,
     "metadata": {},
     "output_type": "execute_result"
    }
   ],
   "source": [
    "import pandas as pd\n",
    "\n",
    "combined_data = pd.read_csv('Coswara-Data/combined_data.csv')\n",
    "combined_data.head()"
   ]
  },
  {
   "attachments": {},
   "cell_type": "markdown",
   "metadata": {},
   "source": [
    "Keep only the columns that are needed for the analysis."
   ]
  },
  {
   "cell_type": "code",
   "execution_count": 2,
   "metadata": {},
   "outputs": [
    {
     "data": {
      "text/html": [
       "<div>\n",
       "<style scoped>\n",
       "    .dataframe tbody tr th:only-of-type {\n",
       "        vertical-align: middle;\n",
       "    }\n",
       "\n",
       "    .dataframe tbody tr th {\n",
       "        vertical-align: top;\n",
       "    }\n",
       "\n",
       "    .dataframe thead th {\n",
       "        text-align: right;\n",
       "    }\n",
       "</style>\n",
       "<table border=\"1\" class=\"dataframe\">\n",
       "  <thead>\n",
       "    <tr style=\"text-align: right;\">\n",
       "      <th></th>\n",
       "      <th>id</th>\n",
       "      <th>covid_status</th>\n",
       "      <th>test_status</th>\n",
       "    </tr>\n",
       "  </thead>\n",
       "  <tbody>\n",
       "    <tr>\n",
       "      <th>0</th>\n",
       "      <td>iV3Db6t1T8b7c5HQY2TwxIhjbzD3</td>\n",
       "      <td>healthy</td>\n",
       "      <td>NaN</td>\n",
       "    </tr>\n",
       "    <tr>\n",
       "      <th>1</th>\n",
       "      <td>AxuYWBN0jFVLINCBqIW5aZmGCdu1</td>\n",
       "      <td>healthy</td>\n",
       "      <td>NaN</td>\n",
       "    </tr>\n",
       "    <tr>\n",
       "      <th>2</th>\n",
       "      <td>C5eIsssb9GSkaAgIfsHMHeR6fSh1</td>\n",
       "      <td>healthy</td>\n",
       "      <td>NaN</td>\n",
       "    </tr>\n",
       "    <tr>\n",
       "      <th>3</th>\n",
       "      <td>YjbEAECMBIaZKyfqOvWy5DDImUb2</td>\n",
       "      <td>healthy</td>\n",
       "      <td>NaN</td>\n",
       "    </tr>\n",
       "    <tr>\n",
       "      <th>4</th>\n",
       "      <td>aGOvk4ji0cVqIzCs1jHnzlw2UEy2</td>\n",
       "      <td>healthy</td>\n",
       "      <td>NaN</td>\n",
       "    </tr>\n",
       "    <tr>\n",
       "      <th>...</th>\n",
       "      <td>...</td>\n",
       "      <td>...</td>\n",
       "      <td>...</td>\n",
       "    </tr>\n",
       "    <tr>\n",
       "      <th>2472</th>\n",
       "      <td>333NjqA1TfZJuICEdXSkPhVz0LA3</td>\n",
       "      <td>positive_asymp</td>\n",
       "      <td>p</td>\n",
       "    </tr>\n",
       "    <tr>\n",
       "      <th>2473</th>\n",
       "      <td>dpA0EeRrtJUeKJjEuf7BL0AeTJZ2</td>\n",
       "      <td>positive_mild</td>\n",
       "      <td>p</td>\n",
       "    </tr>\n",
       "    <tr>\n",
       "      <th>2474</th>\n",
       "      <td>UXhG3vgoxkWtd4Meky1nm0sRgMV2</td>\n",
       "      <td>positive_mild</td>\n",
       "      <td>p</td>\n",
       "    </tr>\n",
       "    <tr>\n",
       "      <th>2475</th>\n",
       "      <td>A5KW9PXraNgckln1gnNaJnX6DvB2</td>\n",
       "      <td>positive_moderate</td>\n",
       "      <td>p</td>\n",
       "    </tr>\n",
       "    <tr>\n",
       "      <th>2476</th>\n",
       "      <td>iYwmYc9CdlSuzqGwIlXNWI6eFpm1</td>\n",
       "      <td>positive_mild</td>\n",
       "      <td>p</td>\n",
       "    </tr>\n",
       "  </tbody>\n",
       "</table>\n",
       "<p>2477 rows × 3 columns</p>\n",
       "</div>"
      ],
      "text/plain": [
       "                                id       covid_status test_status\n",
       "0     iV3Db6t1T8b7c5HQY2TwxIhjbzD3            healthy         NaN\n",
       "1     AxuYWBN0jFVLINCBqIW5aZmGCdu1            healthy         NaN\n",
       "2     C5eIsssb9GSkaAgIfsHMHeR6fSh1            healthy         NaN\n",
       "3     YjbEAECMBIaZKyfqOvWy5DDImUb2            healthy         NaN\n",
       "4     aGOvk4ji0cVqIzCs1jHnzlw2UEy2            healthy         NaN\n",
       "...                            ...                ...         ...\n",
       "2472  333NjqA1TfZJuICEdXSkPhVz0LA3     positive_asymp           p\n",
       "2473  dpA0EeRrtJUeKJjEuf7BL0AeTJZ2      positive_mild           p\n",
       "2474  UXhG3vgoxkWtd4Meky1nm0sRgMV2      positive_mild           p\n",
       "2475  A5KW9PXraNgckln1gnNaJnX6DvB2  positive_moderate           p\n",
       "2476  iYwmYc9CdlSuzqGwIlXNWI6eFpm1      positive_mild           p\n",
       "\n",
       "[2477 rows x 3 columns]"
      ]
     },
     "execution_count": 2,
     "metadata": {},
     "output_type": "execute_result"
    }
   ],
   "source": [
    "combined_data = combined_data[['id', 'covid_status', 'test_status']]\n",
    "combined_data"
   ]
  },
  {
   "cell_type": "code",
   "execution_count": 3,
   "metadata": {},
   "outputs": [
    {
     "data": {
      "text/plain": [
       "healthy                        1410\n",
       "positive_mild                   426\n",
       "positive_moderate               164\n",
       "no_resp_illness_exposed         161\n",
       "recovered_full                  145\n",
       "positive_asymp                   89\n",
       "resp_illness_not_identified      82\n",
       "Name: covid_status, dtype: int64"
      ]
     },
     "execution_count": 3,
     "metadata": {},
     "output_type": "execute_result"
    }
   ],
   "source": [
    "combined_data['covid_status'].value_counts()"
   ]
  },
  {
   "cell_type": "code",
   "execution_count": 4,
   "metadata": {},
   "outputs": [
    {
     "data": {
      "text/plain": [
       "p     679\n",
       "na    312\n",
       "n     257\n",
       "Name: test_status, dtype: int64"
      ]
     },
     "execution_count": 4,
     "metadata": {},
     "output_type": "execute_result"
    }
   ],
   "source": [
    "combined_data['test_status'].value_counts()"
   ]
  },
  {
   "attachments": {},
   "cell_type": "markdown",
   "metadata": {},
   "source": [
    "First let's rename 'healthy' to 'negative'."
   ]
  },
  {
   "cell_type": "code",
   "execution_count": 5,
   "metadata": {},
   "outputs": [],
   "source": [
    "combined_data.loc[combined_data['covid_status'] == 'healthy', 'covid_status'] = 'negative'"
   ]
  },
  {
   "attachments": {},
   "cell_type": "markdown",
   "metadata": {},
   "source": [
    "The 'ut' label for the `test_status` column seems to be used to indicate that the test was not validated yet, matching with the 'under_validation' label in the `covid_status` column."
   ]
  },
  {
   "cell_type": "code",
   "execution_count": 6,
   "metadata": {},
   "outputs": [
    {
     "data": {
      "text/plain": [
       "Series([], Name: covid_status, dtype: int64)"
      ]
     },
     "execution_count": 6,
     "metadata": {},
     "output_type": "execute_result"
    }
   ],
   "source": [
    "combined_data[combined_data['test_status'] == 'ut']['covid_status'].value_counts()"
   ]
  },
  {
   "attachments": {},
   "cell_type": "markdown",
   "metadata": {},
   "source": [
    "Let's remove the rows with this label."
   ]
  },
  {
   "cell_type": "code",
   "execution_count": 7,
   "metadata": {},
   "outputs": [
    {
     "data": {
      "text/plain": [
       "p     679\n",
       "na    312\n",
       "n     257\n",
       "Name: test_status, dtype: int64"
      ]
     },
     "execution_count": 7,
     "metadata": {},
     "output_type": "execute_result"
    }
   ],
   "source": [
    "combined_data = combined_data[combined_data['test_status'] != 'ut']\n",
    "combined_data['test_status'].value_counts()"
   ]
  },
  {
   "cell_type": "code",
   "execution_count": 8,
   "metadata": {},
   "outputs": [
    {
     "data": {
      "text/plain": [
       "negative                       197\n",
       "no_resp_illness_exposed         83\n",
       "resp_illness_not_identified     32\n",
       "Name: covid_status, dtype: int64"
      ]
     },
     "execution_count": 8,
     "metadata": {},
     "output_type": "execute_result"
    }
   ],
   "source": [
    "combined_data[combined_data['test_status'] == 'na']['covid_status'].value_counts()"
   ]
  },
  {
   "attachments": {},
   "cell_type": "markdown",
   "metadata": {},
   "source": [
    "We can observe that the 'na' label for the `test_status` column, used to indicate that the test was not performed, matches in most cases with the 'negative' label in the `covid_status` column.  \n",
    "Let's used this label as a 'n' label for the `test_status` column."
   ]
  },
  {
   "cell_type": "code",
   "execution_count": 9,
   "metadata": {},
   "outputs": [
    {
     "data": {
      "text/plain": [
       "p    679\n",
       "n    569\n",
       "Name: test_status, dtype: int64"
      ]
     },
     "execution_count": 9,
     "metadata": {},
     "output_type": "execute_result"
    }
   ],
   "source": [
    "combined_data.loc[combined_data['test_status'] == 'na', 'test_status'] = 'n'\n",
    "combined_data['test_status'].value_counts()"
   ]
  },
  {
   "attachments": {},
   "cell_type": "markdown",
   "metadata": {},
   "source": [
    "Now let's update the labels for the `covid_status` column to only have two labels: 'positive' and 'negative'."
   ]
  },
  {
   "cell_type": "code",
   "execution_count": 10,
   "metadata": {},
   "outputs": [
    {
     "data": {
      "text/plain": [
       "negative                       1410\n",
       "positive_mild                   426\n",
       "positive_moderate               164\n",
       "no_resp_illness_exposed         161\n",
       "recovered_full                  145\n",
       "positive_asymp                   89\n",
       "resp_illness_not_identified      82\n",
       "Name: covid_status, dtype: int64"
      ]
     },
     "execution_count": 10,
     "metadata": {},
     "output_type": "execute_result"
    }
   ],
   "source": [
    "combined_data['covid_status'].value_counts()"
   ]
  },
  {
   "cell_type": "code",
   "execution_count": 11,
   "metadata": {},
   "outputs": [
    {
     "data": {
      "text/plain": [
       "negative             1683\n",
       "positive              679\n",
       "positive_mild          72\n",
       "recovered_full         20\n",
       "positive_asymp         14\n",
       "positive_moderate       9\n",
       "Name: covid_status, dtype: int64"
      ]
     },
     "execution_count": 11,
     "metadata": {},
     "output_type": "execute_result"
    }
   ],
   "source": [
    "combined_data.loc[combined_data['test_status'] == 'n', 'covid_status'] = 'negative'\n",
    "combined_data.loc[combined_data['test_status'] == 'p', 'covid_status'] = 'positive'\n",
    "combined_data['covid_status'].value_counts()"
   ]
  },
  {
   "attachments": {},
   "cell_type": "markdown",
   "metadata": {},
   "source": [
    "We can observe that some labels in the `covid_status` column are still present. Let's check what can be done with them."
   ]
  },
  {
   "cell_type": "code",
   "execution_count": 12,
   "metadata": {},
   "outputs": [
    {
     "data": {
      "text/plain": [
       "0"
      ]
     },
     "execution_count": 12,
     "metadata": {},
     "output_type": "execute_result"
    }
   ],
   "source": [
    "combined_data[(combined_data['covid_status'] != 'negative') & (combined_data['covid_status'] != 'positive')]['test_status'].notna().sum()"
   ]
  },
  {
   "attachments": {},
   "cell_type": "markdown",
   "metadata": {},
   "source": [
    "`test_status` column is set to NaN for all the rows with a different label in the `covid_status` column than 'positive' or 'negative'.  \n",
    "Let's switch 'positive_mild', 'positive_asymp' and 'positive_moderate' labels to 'positive', and 'recovered_full' to 'negative'."
   ]
  },
  {
   "cell_type": "code",
   "execution_count": 13,
   "metadata": {},
   "outputs": [
    {
     "data": {
      "text/plain": [
       "negative    1703\n",
       "positive     774\n",
       "Name: covid_status, dtype: int64"
      ]
     },
     "execution_count": 13,
     "metadata": {},
     "output_type": "execute_result"
    }
   ],
   "source": [
    "combined_data.loc[combined_data['covid_status'] == 'positive_mild', 'covid_status'] = 'positive'\n",
    "combined_data.loc[combined_data['covid_status'] == 'positive_moderate', 'covid_status'] = 'positive'\n",
    "combined_data.loc[combined_data['covid_status'] == 'positive_asymp', 'covid_status'] = 'positive'\n",
    "combined_data.loc[combined_data['covid_status'] == 'recovered_full', 'covid_status'] = 'negative'\n",
    "combined_data['covid_status'].value_counts()"
   ]
  },
  {
   "attachments": {},
   "cell_type": "markdown",
   "metadata": {},
   "source": [
    "For 'no_resp_illness_exposed' and 'resp_illness_not_identified', we can not deduced if the person is negative or not.  \n",
    "Let's remove these rows."
   ]
  },
  {
   "cell_type": "code",
   "execution_count": 14,
   "metadata": {},
   "outputs": [
    {
     "data": {
      "text/plain": [
       "negative    1703\n",
       "positive     774\n",
       "Name: covid_status, dtype: int64"
      ]
     },
     "execution_count": 14,
     "metadata": {},
     "output_type": "execute_result"
    }
   ],
   "source": [
    "combined_data = combined_data[(combined_data['covid_status'] == 'negative') | (combined_data['covid_status'] == 'positive')]\n",
    "combined_data['covid_status'].value_counts()"
   ]
  },
  {
   "cell_type": "code",
   "execution_count": 15,
   "metadata": {},
   "outputs": [
    {
     "data": {
      "text/plain": [
       "0"
      ]
     },
     "execution_count": 15,
     "metadata": {},
     "output_type": "execute_result"
    }
   ],
   "source": [
    "combined_data['covid_status'].isna().sum()"
   ]
  },
  {
   "attachments": {},
   "cell_type": "markdown",
   "metadata": {},
   "source": [
    "We can observe that there is no NaN value in the `covid_status` column, we can now remove the `test_status` column."
   ]
  },
  {
   "cell_type": "code",
   "execution_count": 16,
   "metadata": {},
   "outputs": [
    {
     "data": {
      "text/html": [
       "<div>\n",
       "<style scoped>\n",
       "    .dataframe tbody tr th:only-of-type {\n",
       "        vertical-align: middle;\n",
       "    }\n",
       "\n",
       "    .dataframe tbody tr th {\n",
       "        vertical-align: top;\n",
       "    }\n",
       "\n",
       "    .dataframe thead th {\n",
       "        text-align: right;\n",
       "    }\n",
       "</style>\n",
       "<table border=\"1\" class=\"dataframe\">\n",
       "  <thead>\n",
       "    <tr style=\"text-align: right;\">\n",
       "      <th></th>\n",
       "      <th>id</th>\n",
       "      <th>covid_status</th>\n",
       "    </tr>\n",
       "  </thead>\n",
       "  <tbody>\n",
       "    <tr>\n",
       "      <th>0</th>\n",
       "      <td>iV3Db6t1T8b7c5HQY2TwxIhjbzD3</td>\n",
       "      <td>negative</td>\n",
       "    </tr>\n",
       "    <tr>\n",
       "      <th>1</th>\n",
       "      <td>AxuYWBN0jFVLINCBqIW5aZmGCdu1</td>\n",
       "      <td>negative</td>\n",
       "    </tr>\n",
       "    <tr>\n",
       "      <th>2</th>\n",
       "      <td>C5eIsssb9GSkaAgIfsHMHeR6fSh1</td>\n",
       "      <td>negative</td>\n",
       "    </tr>\n",
       "    <tr>\n",
       "      <th>3</th>\n",
       "      <td>YjbEAECMBIaZKyfqOvWy5DDImUb2</td>\n",
       "      <td>negative</td>\n",
       "    </tr>\n",
       "    <tr>\n",
       "      <th>4</th>\n",
       "      <td>aGOvk4ji0cVqIzCs1jHnzlw2UEy2</td>\n",
       "      <td>negative</td>\n",
       "    </tr>\n",
       "  </tbody>\n",
       "</table>\n",
       "</div>"
      ],
      "text/plain": [
       "                             id covid_status\n",
       "0  iV3Db6t1T8b7c5HQY2TwxIhjbzD3     negative\n",
       "1  AxuYWBN0jFVLINCBqIW5aZmGCdu1     negative\n",
       "2  C5eIsssb9GSkaAgIfsHMHeR6fSh1     negative\n",
       "3  YjbEAECMBIaZKyfqOvWy5DDImUb2     negative\n",
       "4  aGOvk4ji0cVqIzCs1jHnzlw2UEy2     negative"
      ]
     },
     "execution_count": 16,
     "metadata": {},
     "output_type": "execute_result"
    }
   ],
   "source": [
    "combined_data = combined_data[combined_data.columns[~combined_data.columns.isin(['test_status'])]]\n",
    "combined_data.head()"
   ]
  },
  {
   "cell_type": "code",
   "execution_count": 17,
   "metadata": {},
   "outputs": [
    {
     "data": {
      "text/plain": [
       "2477"
      ]
     },
     "execution_count": 17,
     "metadata": {},
     "output_type": "execute_result"
    }
   ],
   "source": [
    "len(combined_data)"
   ]
  },
  {
   "cell_type": "code",
   "execution_count": 18,
   "metadata": {},
   "outputs": [
    {
     "data": {
      "text/plain": [
       "(negative    1089\n",
       " positive     495\n",
       " Name: covid_status, dtype: int64,\n",
       " negative    273\n",
       " positive    124\n",
       " Name: covid_status, dtype: int64,\n",
       " negative    341\n",
       " positive    155\n",
       " Name: covid_status, dtype: int64)"
      ]
     },
     "execution_count": 18,
     "metadata": {},
     "output_type": "execute_result"
    }
   ],
   "source": [
    "from sklearn.model_selection import train_test_split\n",
    "\n",
    "train, test = train_test_split(combined_data, test_size=0.2, random_state=42, stratify=combined_data['covid_status'])\n",
    "train, val = train_test_split(train, test_size=0.2, random_state=42, stratify=train['covid_status'])\n",
    "\n",
    "train['covid_status'].value_counts(), val['covid_status'].value_counts(), test['covid_status'].value_counts()"
   ]
  },
  {
   "attachments": {},
   "cell_type": "markdown",
   "metadata": {},
   "source": [
    "# Transform audio files to mel-spectrograms"
   ]
  },
  {
   "cell_type": "code",
   "execution_count": 19,
   "metadata": {},
   "outputs": [],
   "source": [
    "import os\n",
    "\n",
    "audio_folder = 'Coswara-Data/'\n",
    "\n",
    "train_ids = train['id'].values\n",
    "val_ids = val['id'].values\n",
    "test_ids = test['id'].values\n",
    "\n",
    "train_audio_folder = []\n",
    "val_audio_folder = []\n",
    "test_audio_folder = []\n",
    "\n",
    "for folder1 in os.listdir(audio_folder):\n",
    "    if os.path.isdir(os.path.join(audio_folder, folder1)):\n",
    "        for folder2 in os.listdir(os.path.join(audio_folder, folder1)):\n",
    "            if folder2 in train_ids:\n",
    "                train_audio_folder.append(os.path.join(audio_folder, folder1, folder2))\n",
    "            elif folder2 in val_ids:\n",
    "                val_audio_folder.append(os.path.join(audio_folder, folder1, folder2))\n",
    "            elif folder2 in test_ids:\n",
    "                test_audio_folder.append(os.path.join(audio_folder, folder1, folder2))\n",
    "            \n",
    "assert len(train_audio_folder) == len(train_ids)\n",
    "assert len(val_audio_folder) == len(val_ids)\n",
    "assert len(test_audio_folder) == len(test_ids)"
   ]
  },
  {
   "cell_type": "code",
   "execution_count": 20,
   "metadata": {},
   "outputs": [
    {
     "name": "stderr",
     "output_type": "stream",
     "text": [
      "/home/leme/.local/lib/python3.10/site-packages/requests/__init__.py:102: RequestsDependencyWarning: urllib3 (1.26.9) or chardet (5.1.0)/charset_normalizer (2.0.12) doesn't match a supported version!\n",
      "  warnings.warn(\"urllib3 ({}) or chardet ({})/charset_normalizer ({}) doesn't match a supported \"\n"
     ]
    }
   ],
   "source": [
    "import librosa\n",
    "import skimage\n",
    "import numpy as np\n",
    "\n",
    "# Settings\n",
    "n_mels = 64 # Number of Mel banks to generate\n",
    "n_fft = 1024 # Interval we consider to apply FFT. Measured in # of samples\n",
    "hop_length = 441 # Sliding window for FFT. Measured in # of samples\n",
    "fmax = 22 # Maximum frequency we want to consider\n",
    "sampling_rate = 44100 # 44.1kHz sampling rate\n",
    "fmax = 22050"
   ]
  },
  {
   "cell_type": "code",
   "execution_count": 21,
   "metadata": {},
   "outputs": [
    {
     "name": "stderr",
     "output_type": "stream",
     "text": [
      "/home/leme/.local/lib/python3.10/site-packages/tqdm/auto.py:22: TqdmWarning: IProgress not found. Please update jupyter and ipywidgets. See https://ipywidgets.readthedocs.io/en/stable/user_install.html\n",
      "  from .autonotebook import tqdm as notebook_tqdm\n"
     ]
    }
   ],
   "source": [
    "import torch\n",
    "import torchaudio\n",
    "\n",
    "def compute_SAD(sig,fs,threshold=0.0001,sad_start_end_sil_length=100, sad_margin_length=50):\n",
    "    ''' Compute threshold based sound activity '''\n",
    "    # Leading/Trailing margin\n",
    "    sad_start_end_sil_length = int(sad_start_end_sil_length*1e-3*fs)\n",
    "    # Margin around active samples\n",
    "    sad_margin_length = int(sad_margin_length*1e-3*fs)\n",
    "\n",
    "    sample_activity = np.zeros(sig.shape)\n",
    "    sample_activity[np.power(sig,2)>threshold] = 1\n",
    "    sad = np.zeros(sig.shape)\n",
    "    for i in range(sample_activity.shape[0]):\n",
    "        if sample_activity[i] == 1: sad[i-sad_margin_length:i+sad_margin_length] = 1\n",
    "    sad[0:sad_start_end_sil_length] = 0\n",
    "    sad[-sad_start_end_sil_length:] = 0\n",
    "    return sad\n",
    "\n",
    "def read_audio(file_path):\n",
    "\ttry:\n",
    "\t\ts,fs = librosa.load(file_path)\n",
    "\t\tif np.mean(s)==0 or len(s)<1024:\n",
    "\t\t\traise ValueError()\n",
    "\t\t# waveform level amplitude normalization\n",
    "\t\ts = s/np.max(np.abs(s))\n",
    "\t\tsad = compute_SAD(s,fs)\n",
    "\t\ts = s[np.where(sad==1)]\n",
    "\texcept ValueError:\n",
    "\t\ts = None\n",
    "\t\tprint(\"Read audio failed for \"+file_path)\t\t\n",
    "\treturn s\n",
    "\n",
    "def compute_logMelSpec(s):\n",
    "\t''' Feature preparation\n",
    "\tSteps:\n",
    "\t1. Apply feature extraction to waveform\n",
    "\t2. Convert amplitude to dB if required\n",
    "\t3. Append delta and delta-delta features\n",
    "\t'''\n",
    "\tF_extractor = torchaudio.transforms.MelSpectrogram(sample_rate=sampling_rate,\n",
    "                                                                            n_fft=n_fft,\n",
    "                                                                            n_mels=n_mels,\n",
    "                                                                            f_max=fmax,\n",
    "                                                                            hop_length=hop_length)\n",
    "\tF = F_extractor(torch.tensor(s))\n",
    "\tF = torchaudio.functional.amplitude_to_DB(F,multiplier=10,amin=1e-10,db_multiplier=0)\n",
    "\tFo=F\n",
    "\tFD = torchaudio.functional.compute_deltas(F)\n",
    "\tFo = torch.cat((F,FD),dim=0)\n",
    "\tFD = torchaudio.functional.compute_deltas(F)\n",
    "\tFDD = torchaudio.functional.compute_deltas(FD)\n",
    "\tFo = torch.cat((F,FD,FDD),dim=0)\n",
    "\treturn (Fo.T.numpy())\n"
   ]
  },
  {
   "cell_type": "code",
   "execution_count": 22,
   "metadata": {},
   "outputs": [],
   "source": [
    "def get_features(audio_folder, audio_name):\n",
    "    audio = read_audio(os.path.join(audio_folder, audio_name))\n",
    "    features = compute_logMelSpec(audio)\n",
    "    return features"
   ]
  },
  {
   "cell_type": "code",
   "execution_count": 23,
   "metadata": {},
   "outputs": [],
   "source": [
    "def scale_minmax(X, min=0.0, max=1.0):\n",
    "    X_std = (X - X.min()) / (X.max() - X.min())\n",
    "    X_scaled = X_std * (max - min) + min\n",
    "    return X_scaled\n",
    "\n",
    "def extract_melspectrogram(audio_folder, audio_name):\n",
    "    audio, sr = librosa.load(os.path.join(audio_folder, audio_name))\n",
    "    melspectrogram = librosa.feature.melspectrogram(y=audio, sr=sr, n_mels=n_mels, n_fft=n_fft, hop_length=hop_length, fmax=fmax)\n",
    "    melspectrogram = np.log(melspectrogram + 1e-9) # add small number to avoid log(0)\n",
    "    return melspectrogram\n",
    "\n",
    "def extract_melspectrogram_image(audio_folder, audio_name):\n",
    "    melspectrogram = extract_melspectrogram(audio_folder, audio_name)\n",
    "    img = scale_minmax(melspectrogram, 0, 255).astype(np.uint8)\n",
    "    img = np.flip(img, axis=0)\n",
    "    img = 255 - img\n",
    "    skimage.io.imsave(os.path.join(audio_folder, audio_name + '.png'), img, check_contrast=False)\n",
    "    return melspectrogram"
   ]
  },
  {
   "cell_type": "code",
   "execution_count": 24,
   "metadata": {},
   "outputs": [
    {
     "name": "stdout",
     "output_type": "stream",
     "text": [
      "Extracting melspectrogram for test set...\n"
     ]
    },
    {
     "name": "stderr",
     "output_type": "stream",
     "text": [
      "  2%|▏         | 12/496 [00:06<03:39,  2.20it/s]"
     ]
    },
    {
     "name": "stdout",
     "output_type": "stream",
     "text": [
      "Read audio failed for Coswara-Data/20200413/U98J2q0NnycYzzUS2BYZpUa55X83/cough-heavy.wav\n"
     ]
    },
    {
     "name": "stderr",
     "output_type": "stream",
     "text": [
      "  3%|▎         | 13/496 [00:06<03:44,  2.15it/s]"
     ]
    },
    {
     "name": "stdout",
     "output_type": "stream",
     "text": [
      "Read audio failed for Coswara-Data/20200413/U98J2q0NnycYzzUS2BYZpUa55X83/cough-shallow.wav\n",
      "Read audio failed for Coswara-Data/20200413/zvXkuEaPb0OEgG4EHx59NqdmamR2/cough-heavy.wav\n"
     ]
    },
    {
     "name": "stderr",
     "output_type": "stream",
     "text": [
      "  3%|▎         | 14/496 [00:07<04:12,  1.91it/s]"
     ]
    },
    {
     "name": "stdout",
     "output_type": "stream",
     "text": [
      "Read audio failed for Coswara-Data/20200413/zvXkuEaPb0OEgG4EHx59NqdmamR2/cough-shallow.wav\n"
     ]
    },
    {
     "name": "stderr",
     "output_type": "stream",
     "text": [
      "  6%|▌         | 30/496 [00:15<03:14,  2.39it/s]"
     ]
    },
    {
     "name": "stdout",
     "output_type": "stream",
     "text": [
      "Read audio failed for Coswara-Data/20200415/QlMu7Fl8iIgOZM3QHEOzOJY6npH3/cough-heavy.wav\n",
      "Read audio failed for Coswara-Data/20200415/QlMu7Fl8iIgOZM3QHEOzOJY6npH3/cough-shallow.wav\n"
     ]
    },
    {
     "name": "stderr",
     "output_type": "stream",
     "text": [
      "  6%|▋         | 32/496 [00:15<03:19,  2.33it/s]"
     ]
    },
    {
     "name": "stdout",
     "output_type": "stream",
     "text": [
      "Read audio failed for Coswara-Data/20200415/StMoprM57wPyrUs5p0s78r1X0Qt1/cough-shallow.wav\n"
     ]
    },
    {
     "name": "stderr",
     "output_type": "stream",
     "text": [
      "  9%|▊         | 43/496 [00:21<03:49,  1.97it/s]/home/leme/.local/lib/python3.10/site-packages/librosa/util/decorators.py:88: UserWarning: PySoundFile failed. Trying audioread instead.\n",
      "  return f(*args, **kwargs)\n",
      " 41%|████▏     | 205/496 [01:44<02:17,  2.12it/s]"
     ]
    },
    {
     "name": "stdout",
     "output_type": "stream",
     "text": [
      "Read audio failed for Coswara-Data/20200820/aU8pLZV1OUQJV0GKeeIlgWhYWeA2/cough-shallow.wav\n"
     ]
    },
    {
     "name": "stderr",
     "output_type": "stream",
     "text": [
      " 52%|█████▏    | 260/496 [02:10<01:28,  2.67it/s]"
     ]
    },
    {
     "name": "stdout",
     "output_type": "stream",
     "text": [
      "Read audio failed for Coswara-Data/20210406/c18b81Qa5YY2RbEzblDNxMNQE312/cough-heavy.wav\n"
     ]
    },
    {
     "name": "stderr",
     "output_type": "stream",
     "text": [
      " 73%|███████▎  | 362/496 [03:07<00:50,  2.64it/s]"
     ]
    },
    {
     "name": "stdout",
     "output_type": "stream",
     "text": [
      "Read audio failed for Coswara-Data/20210830/893CVd6PDMVocg2NUuxlMR2MLtr1/cough-heavy.wav\n",
      "Read audio failed for Coswara-Data/20210830/893CVd6PDMVocg2NUuxlMR2MLtr1/cough-shallow.wav\n"
     ]
    },
    {
     "name": "stderr",
     "output_type": "stream",
     "text": [
      " 73%|███████▎  | 363/496 [03:07<00:41,  3.17it/s]"
     ]
    },
    {
     "name": "stdout",
     "output_type": "stream",
     "text": [
      "Read audio failed for Coswara-Data/20210830/bg0A9VSw8yUI2XHBYnyjRTF6Yk83/cough-heavy.wav\n",
      "Read audio failed for Coswara-Data/20210830/bg0A9VSw8yUI2XHBYnyjRTF6Yk83/cough-shallow.wav\n",
      "Read audio failed for Coswara-Data/20210830/C1gtLXT26vXGmSoubzZKPtzsU1M2/cough-heavy.wav\n"
     ]
    },
    {
     "name": "stderr",
     "output_type": "stream",
     "text": [
      " 73%|███████▎  | 364/496 [03:07<00:44,  2.95it/s]"
     ]
    },
    {
     "name": "stdout",
     "output_type": "stream",
     "text": [
      "Read audio failed for Coswara-Data/20210830/C1gtLXT26vXGmSoubzZKPtzsU1M2/cough-shallow.wav\n"
     ]
    },
    {
     "name": "stderr",
     "output_type": "stream",
     "text": [
      " 74%|███████▍  | 367/496 [03:08<00:39,  3.23it/s]"
     ]
    },
    {
     "name": "stdout",
     "output_type": "stream",
     "text": [
      "Read audio failed for Coswara-Data/20210830/mdnBfPM4iLX7S1O9v92lao51Agz1/cough-heavy.wav\n",
      "Read audio failed for Coswara-Data/20210830/mdnBfPM4iLX7S1O9v92lao51Agz1/cough-shallow.wav\n"
     ]
    },
    {
     "name": "stderr",
     "output_type": "stream",
     "text": [
      " 74%|███████▍  | 369/496 [03:09<00:38,  3.33it/s]"
     ]
    },
    {
     "name": "stdout",
     "output_type": "stream",
     "text": [
      "Read audio failed for Coswara-Data/20210830/OC99RqHzOjNvaA0rJhPUgP4PM2o1/cough-heavy.wav\n",
      "Read audio failed for Coswara-Data/20210830/OC99RqHzOjNvaA0rJhPUgP4PM2o1/cough-shallow.wav\n"
     ]
    },
    {
     "name": "stderr",
     "output_type": "stream",
     "text": [
      " 75%|███████▌  | 374/496 [03:11<00:43,  2.79it/s]"
     ]
    },
    {
     "name": "stdout",
     "output_type": "stream",
     "text": [
      "Read audio failed for Coswara-Data/20210830/z11Uz5A6KqNGTti7xPmty0H8mLW2/cough-heavy.wav\n",
      "Read audio failed for Coswara-Data/20210830/z11Uz5A6KqNGTti7xPmty0H8mLW2/cough-shallow.wav\n"
     ]
    },
    {
     "name": "stderr",
     "output_type": "stream",
     "text": [
      " 76%|███████▋  | 379/496 [03:13<00:41,  2.80it/s]"
     ]
    },
    {
     "name": "stdout",
     "output_type": "stream",
     "text": [
      "Read audio failed for Coswara-Data/20210914/lMENbuoFgAdokwyJxN0RiDDuiu03/cough-heavy.wav\n",
      "Read audio failed for Coswara-Data/20210914/lMENbuoFgAdokwyJxN0RiDDuiu03/cough-shallow.wav\n"
     ]
    },
    {
     "name": "stderr",
     "output_type": "stream",
     "text": [
      " 86%|████████▌ | 427/496 [03:31<00:18,  3.81it/s]"
     ]
    },
    {
     "name": "stdout",
     "output_type": "stream",
     "text": [
      "Read audio failed for Coswara-Data/20220116/npdYHgmoGnN0QslTqGQd2i28LMo1/cough-heavy.wav\n",
      "Read audio failed for Coswara-Data/20220116/npdYHgmoGnN0QslTqGQd2i28LMo1/cough-shallow.wav\n"
     ]
    },
    {
     "name": "stderr",
     "output_type": "stream",
     "text": [
      " 99%|█████████▉| 492/496 [03:58<00:01,  2.62it/s]"
     ]
    },
    {
     "name": "stdout",
     "output_type": "stream",
     "text": [
      "Read audio failed for Coswara-Data/20220224/zl0ycIoAzhSJU1xsyLSNCDQA9Rr2/cough-heavy.wav\n",
      "Read audio failed for Coswara-Data/20220224/zl0ycIoAzhSJU1xsyLSNCDQA9Rr2/cough-shallow.wav\n"
     ]
    },
    {
     "name": "stderr",
     "output_type": "stream",
     "text": [
      "100%|██████████| 496/496 [04:00<00:00,  2.06it/s]\n",
      "/tmp/ipykernel_1272/3512539183.py:13: VisibleDeprecationWarning: Creating an ndarray from ragged nested sequences (which is a list-or-tuple of lists-or-tuples-or ndarrays with different lengths or shapes) is deprecated. If you meant to do this, you must specify 'dtype=object' when creating the ndarray.\n",
      "  data = np.array(data)\n"
     ]
    },
    {
     "name": "stdout",
     "output_type": "stream",
     "text": [
      "Extracting melspectrogram for train set...\n"
     ]
    },
    {
     "name": "stderr",
     "output_type": "stream",
     "text": [
      "  0%|          | 3/1584 [00:01<11:32,  2.28it/s]"
     ]
    },
    {
     "name": "stdout",
     "output_type": "stream",
     "text": [
      "Read audio failed for Coswara-Data/20200413/2XgDqzQkqLX9SbmSHfbqdRxSmRD2/cough-heavy.wav\n",
      "Read audio failed for Coswara-Data/20200413/2XgDqzQkqLX9SbmSHfbqdRxSmRD2/cough-shallow.wav\n"
     ]
    },
    {
     "name": "stderr",
     "output_type": "stream",
     "text": [
      "  1%|          | 19/1584 [00:10<11:59,  2.18it/s]"
     ]
    },
    {
     "name": "stdout",
     "output_type": "stream",
     "text": [
      "Read audio failed for Coswara-Data/20200413/htQzROl26OWQpIYFDzv11F79PLR2/cough-heavy.wav\n",
      "Read audio failed for Coswara-Data/20200413/htQzROl26OWQpIYFDzv11F79PLR2/cough-shallow.wav\n"
     ]
    },
    {
     "name": "stderr",
     "output_type": "stream",
     "text": [
      "  2%|▏         | 32/1584 [00:16<11:54,  2.17it/s]"
     ]
    },
    {
     "name": "stdout",
     "output_type": "stream",
     "text": [
      "Read audio failed for Coswara-Data/20200413/tiKv850hJFTmpCAvfJOmOOqkeUs1/cough-heavy.wav\n",
      "Read audio failed for Coswara-Data/20200413/tiKv850hJFTmpCAvfJOmOOqkeUs1/cough-shallow.wav\n"
     ]
    },
    {
     "name": "stderr",
     "output_type": "stream",
     "text": [
      "  5%|▍         | 79/1584 [00:37<08:31,  2.94it/s]"
     ]
    },
    {
     "name": "stdout",
     "output_type": "stream",
     "text": [
      "Read audio failed for Coswara-Data/20200415/f9g4olEAspen4dJakQJsI2EME032/cough-heavy.wav\n",
      "Read audio failed for Coswara-Data/20200415/f9g4olEAspen4dJakQJsI2EME032/cough-shallow.wav\n"
     ]
    },
    {
     "name": "stderr",
     "output_type": "stream",
     "text": [
      "  6%|▋         | 99/1584 [00:48<09:36,  2.57it/s]"
     ]
    },
    {
     "name": "stdout",
     "output_type": "stream",
     "text": [
      "Read audio failed for Coswara-Data/20200415/jSb7SyucSmTHhzs3qQoBExRMQZ02/cough-shallow.wav\n"
     ]
    },
    {
     "name": "stderr",
     "output_type": "stream",
     "text": [
      "  8%|▊         | 122/1584 [01:00<12:58,  1.88it/s]"
     ]
    },
    {
     "name": "stdout",
     "output_type": "stream",
     "text": [
      "Read audio failed for Coswara-Data/20200415/V3EIT06H4JN5KwoK8aGRXQNzGRi1/cough-heavy.wav\n"
     ]
    },
    {
     "name": "stderr",
     "output_type": "stream",
     "text": [
      " 12%|█▏        | 188/1584 [01:34<11:14,  2.07it/s]"
     ]
    },
    {
     "name": "stdout",
     "output_type": "stream",
     "text": [
      "Read audio failed for Coswara-Data/20200416/HdJdEWQecehLzEQcyDV7vjr85C82/cough-heavy.wav\n",
      "Read audio failed for Coswara-Data/20200416/HdJdEWQecehLzEQcyDV7vjr85C82/cough-shallow.wav\n"
     ]
    },
    {
     "name": "stderr",
     "output_type": "stream",
     "text": [
      " 18%|█▊        | 290/1584 [02:24<10:18,  2.09it/s]"
     ]
    },
    {
     "name": "stdout",
     "output_type": "stream",
     "text": [
      "Read audio failed for Coswara-Data/20200417/imhxF3UQDZNVEnNeyw8jOAsgtjv2/cough-heavy.wav\n",
      "Read audio failed for Coswara-Data/20200417/imhxF3UQDZNVEnNeyw8jOAsgtjv2/cough-shallow.wav\n"
     ]
    },
    {
     "name": "stderr",
     "output_type": "stream",
     "text": [
      " 26%|██▌       | 406/1584 [03:21<06:29,  3.02it/s]"
     ]
    },
    {
     "name": "stdout",
     "output_type": "stream",
     "text": [
      "Read audio failed for Coswara-Data/20200430/C3luMlCgAFZqGmGjFscXe9fVHSG3/cough-heavy.wav\n"
     ]
    },
    {
     "name": "stderr",
     "output_type": "stream",
     "text": [
      " 34%|███▍      | 542/1584 [04:30<08:40,  2.00it/s]"
     ]
    },
    {
     "name": "stdout",
     "output_type": "stream",
     "text": [
      "Read audio failed for Coswara-Data/20200504/qkdJKHOBuAYsKvnxbLvnoJ5Dc8y2/cough-heavy.wav\n"
     ]
    },
    {
     "name": "stderr",
     "output_type": "stream",
     "text": [
      " 34%|███▍      | 543/1584 [04:31<08:01,  2.16it/s]"
     ]
    },
    {
     "name": "stdout",
     "output_type": "stream",
     "text": [
      "Read audio failed for Coswara-Data/20200504/qkdJKHOBuAYsKvnxbLvnoJ5Dc8y2/cough-shallow.wav\n"
     ]
    },
    {
     "name": "stderr",
     "output_type": "stream",
     "text": [
      " 35%|███▌      | 557/1584 [04:37<07:28,  2.29it/s]"
     ]
    },
    {
     "name": "stdout",
     "output_type": "stream",
     "text": [
      "Read audio failed for Coswara-Data/20200505/0M4YhLM7FwWO5IjCqhi7MlBhvJv2/cough-heavy.wav\n",
      "Read audio failed for Coswara-Data/20200505/0M4YhLM7FwWO5IjCqhi7MlBhvJv2/cough-shallow.wav\n"
     ]
    },
    {
     "name": "stderr",
     "output_type": "stream",
     "text": [
      " 35%|███▌      | 558/1584 [04:37<06:29,  2.63it/s]"
     ]
    },
    {
     "name": "stdout",
     "output_type": "stream",
     "text": [
      "Read audio failed for Coswara-Data/20200505/GBZ88OAxQfg6NBTxjDRI0Pf59mq1/cough-shallow.wav\n"
     ]
    },
    {
     "name": "stderr",
     "output_type": "stream",
     "text": [
      " 39%|███▊      | 610/1584 [04:59<07:28,  2.17it/s]"
     ]
    },
    {
     "name": "stdout",
     "output_type": "stream",
     "text": [
      "Read audio failed for Coswara-Data/20200707/fYjYHeLgCOUf5m1f8EAgGDol5G73/cough-shallow.wav\n"
     ]
    },
    {
     "name": "stderr",
     "output_type": "stream",
     "text": [
      " 44%|████▍     | 701/1584 [05:42<07:01,  2.09it/s]"
     ]
    },
    {
     "name": "stdout",
     "output_type": "stream",
     "text": [
      "Read audio failed for Coswara-Data/20200820/fuCq7eA5CPYcnRpJqc0hFSr8klr2/cough-heavy.wav\n",
      "Read audio failed for Coswara-Data/20200820/fuCq7eA5CPYcnRpJqc0hFSr8klr2/cough-shallow.wav\n"
     ]
    },
    {
     "name": "stderr",
     "output_type": "stream",
     "text": [
      " 45%|████▌     | 715/1584 [05:47<05:26,  2.66it/s]"
     ]
    },
    {
     "name": "stdout",
     "output_type": "stream",
     "text": [
      "Read audio failed for Coswara-Data/20200820/yZuoG6z3pRfycT6JKqwqKDMj4tM2/cough-heavy.wav\n",
      "Read audio failed for Coswara-Data/20200820/yZuoG6z3pRfycT6JKqwqKDMj4tM2/cough-shallow.wav\n"
     ]
    },
    {
     "name": "stderr",
     "output_type": "stream",
     "text": [
      " 47%|████▋     | 738/1584 [05:56<06:00,  2.35it/s]"
     ]
    },
    {
     "name": "stdout",
     "output_type": "stream",
     "text": [
      "Read audio failed for Coswara-Data/20200911/CdU4pgCdFcZxtDHTpLUn1mO9J3o2/cough-shallow.wav\n"
     ]
    },
    {
     "name": "stderr",
     "output_type": "stream",
     "text": [
      " 52%|█████▏    | 819/1584 [06:27<04:53,  2.61it/s]"
     ]
    },
    {
     "name": "stdout",
     "output_type": "stream",
     "text": [
      "Read audio failed for Coswara-Data/20201130/IWZidWG1Y3aIbwBNfyR5P9rt0O82/cough-heavy.wav\n",
      "Read audio failed for Coswara-Data/20201130/IWZidWG1Y3aIbwBNfyR5P9rt0O82/cough-shallow.wav\n"
     ]
    },
    {
     "name": "stderr",
     "output_type": "stream",
     "text": [
      " 54%|█████▎    | 849/1584 [06:40<04:49,  2.54it/s]"
     ]
    },
    {
     "name": "stdout",
     "output_type": "stream",
     "text": [
      "Read audio failed for Coswara-Data/20210406/0mkAUAbpROMIFjKpdFxlUnYTV262/cough-heavy.wav\n",
      "Read audio failed for Coswara-Data/20210406/0mkAUAbpROMIFjKpdFxlUnYTV262/cough-shallow.wav\n"
     ]
    },
    {
     "name": "stderr",
     "output_type": "stream",
     "text": [
      " 55%|█████▌    | 874/1584 [06:50<03:49,  3.09it/s]"
     ]
    },
    {
     "name": "stdout",
     "output_type": "stream",
     "text": [
      "Read audio failed for Coswara-Data/20210406/NcPBzMBBxNbjK84kdCv2z4IJzLC3/cough-heavy.wav\n",
      "Read audio failed for Coswara-Data/20210406/NcPBzMBBxNbjK84kdCv2z4IJzLC3/cough-shallow.wav\n"
     ]
    },
    {
     "name": "stderr",
     "output_type": "stream",
     "text": [
      " 71%|███████▏  | 1129/1584 [08:48<02:29,  3.05it/s]"
     ]
    },
    {
     "name": "stdout",
     "output_type": "stream",
     "text": [
      "Read audio failed for Coswara-Data/20210816/0dfJArS4xbNhay72hpzOvlHkpIj2/cough-heavy.wav\n",
      "Read audio failed for Coswara-Data/20210816/0dfJArS4xbNhay72hpzOvlHkpIj2/cough-shallow.wav\n"
     ]
    },
    {
     "name": "stderr",
     "output_type": "stream",
     "text": [
      " 72%|███████▏  | 1138/1584 [08:51<02:05,  3.55it/s]"
     ]
    },
    {
     "name": "stdout",
     "output_type": "stream",
     "text": [
      "Read audio failed for Coswara-Data/20210816/5VMtlrkOQbXGDLgpTBy3RVoVz1I3/cough-heavy.wav\n",
      "Read audio failed for Coswara-Data/20210816/5VMtlrkOQbXGDLgpTBy3RVoVz1I3/cough-shallow.wav\n"
     ]
    },
    {
     "name": "stderr",
     "output_type": "stream",
     "text": [
      " 74%|███████▍  | 1174/1584 [09:03<01:56,  3.51it/s]"
     ]
    },
    {
     "name": "stdout",
     "output_type": "stream",
     "text": [
      "Read audio failed for Coswara-Data/20210816/WcRpZenx0WWQmzOUPTHEEGlyJAg1/cough-heavy.wav\n",
      "Read audio failed for Coswara-Data/20210816/WcRpZenx0WWQmzOUPTHEEGlyJAg1/cough-shallow.wav\n"
     ]
    },
    {
     "name": "stderr",
     "output_type": "stream",
     "text": [
      " 75%|███████▍  | 1187/1584 [09:08<02:17,  2.89it/s]"
     ]
    },
    {
     "name": "stdout",
     "output_type": "stream",
     "text": [
      "Read audio failed for Coswara-Data/20210830/4O0K7hT7XgOD4hysPGeuTXfDjF03/cough-heavy.wav\n",
      "Read audio failed for Coswara-Data/20210830/4O0K7hT7XgOD4hysPGeuTXfDjF03/cough-shallow.wav\n"
     ]
    },
    {
     "name": "stderr",
     "output_type": "stream",
     "text": [
      " 75%|███████▌  | 1194/1584 [09:10<01:40,  3.89it/s]"
     ]
    },
    {
     "name": "stdout",
     "output_type": "stream",
     "text": [
      "Read audio failed for Coswara-Data/20210830/drfMOiYPMLOOOLejs4s2rW8HQau2/cough-heavy.wav\n",
      "Read audio failed for Coswara-Data/20210830/drfMOiYPMLOOOLejs4s2rW8HQau2/cough-shallow.wav\n",
      "Read audio failed for Coswara-Data/20210830/Ea7U78zNVGNlzPCXKviy1ApAcfo2/cough-heavy.wav\n"
     ]
    },
    {
     "name": "stderr",
     "output_type": "stream",
     "text": [
      " 75%|███████▌  | 1195/1584 [09:11<02:03,  3.16it/s]"
     ]
    },
    {
     "name": "stdout",
     "output_type": "stream",
     "text": [
      "Read audio failed for Coswara-Data/20210830/Ea7U78zNVGNlzPCXKviy1ApAcfo2/cough-shallow.wav\n"
     ]
    },
    {
     "name": "stderr",
     "output_type": "stream",
     "text": [
      " 76%|███████▌  | 1200/1584 [09:13<02:55,  2.18it/s]"
     ]
    },
    {
     "name": "stdout",
     "output_type": "stream",
     "text": [
      "Read audio failed for Coswara-Data/20210830/ijTkM1TDeeXxjotuSx0D7Bhk2H72/cough-heavy.wav\n"
     ]
    },
    {
     "name": "stderr",
     "output_type": "stream",
     "text": [
      " 76%|███████▌  | 1201/1584 [09:13<02:50,  2.24it/s]"
     ]
    },
    {
     "name": "stdout",
     "output_type": "stream",
     "text": [
      "Read audio failed for Coswara-Data/20210830/ijTkM1TDeeXxjotuSx0D7Bhk2H72/cough-shallow.wav\n"
     ]
    },
    {
     "name": "stderr",
     "output_type": "stream",
     "text": [
      " 76%|███████▋  | 1209/1584 [09:17<02:00,  3.12it/s]"
     ]
    },
    {
     "name": "stdout",
     "output_type": "stream",
     "text": [
      "Read audio failed for Coswara-Data/20210830/r7mpJTuaZYNE7L4ohPsXiqLbba93/cough-heavy.wav\n",
      "Read audio failed for Coswara-Data/20210830/r7mpJTuaZYNE7L4ohPsXiqLbba93/cough-shallow.wav\n"
     ]
    },
    {
     "name": "stderr",
     "output_type": "stream",
     "text": [
      " 77%|███████▋  | 1212/1584 [09:18<01:55,  3.21it/s]"
     ]
    },
    {
     "name": "stdout",
     "output_type": "stream",
     "text": [
      "Read audio failed for Coswara-Data/20210830/VlQvT9LEVHMLQq3GSPkH4vyskW83/cough-heavy.wav\n",
      "Read audio failed for Coswara-Data/20210830/VlQvT9LEVHMLQq3GSPkH4vyskW83/cough-shallow.wav\n"
     ]
    },
    {
     "name": "stderr",
     "output_type": "stream",
     "text": [
      " 77%|███████▋  | 1221/1584 [09:21<01:58,  3.08it/s]"
     ]
    },
    {
     "name": "stdout",
     "output_type": "stream",
     "text": [
      "Read audio failed for Coswara-Data/20210914/BJ07uOrLOCbKZGwhOCajxBj8Y8g1/cough-heavy.wav\n",
      "Read audio failed for Coswara-Data/20210914/BJ07uOrLOCbKZGwhOCajxBj8Y8g1/cough-shallow.wav\n"
     ]
    },
    {
     "name": "stderr",
     "output_type": "stream",
     "text": [
      " 78%|███████▊  | 1232/1584 [09:26<02:31,  2.32it/s]"
     ]
    },
    {
     "name": "stdout",
     "output_type": "stream",
     "text": [
      "Read audio failed for Coswara-Data/20210914/saLiV2oREChEpRlmo4TikTNRuZV2/cough-heavy.wav\n",
      "Read audio failed for Coswara-Data/20210914/saLiV2oREChEpRlmo4TikTNRuZV2/cough-shallow.wav\n"
     ]
    },
    {
     "name": "stderr",
     "output_type": "stream",
     "text": [
      " 78%|███████▊  | 1233/1584 [09:26<02:12,  2.65it/s]"
     ]
    },
    {
     "name": "stdout",
     "output_type": "stream",
     "text": [
      "Read audio failed for Coswara-Data/20210914/SBmgSU1SafhWfw4b8d4o07Iwzqw1/cough-heavy.wav\n",
      "Read audio failed for Coswara-Data/20210914/SBmgSU1SafhWfw4b8d4o07Iwzqw1/cough-shallow.wav\n"
     ]
    },
    {
     "name": "stderr",
     "output_type": "stream",
     "text": [
      " 78%|███████▊  | 1243/1584 [09:30<02:03,  2.75it/s]"
     ]
    },
    {
     "name": "stdout",
     "output_type": "stream",
     "text": [
      "Read audio failed for Coswara-Data/20210930/0Js6ZUZQ9NUnu568Fh7B6mZ1R8o1/cough-heavy.wav\n",
      "Read audio failed for Coswara-Data/20210930/0Js6ZUZQ9NUnu568Fh7B6mZ1R8o1/cough-shallow.wav\n"
     ]
    },
    {
     "name": "stderr",
     "output_type": "stream",
     "text": [
      " 79%|███████▊  | 1245/1584 [09:31<01:32,  3.65it/s]"
     ]
    },
    {
     "name": "stdout",
     "output_type": "stream",
     "text": [
      "Read audio failed for Coswara-Data/20210930/1NQvmLMrJyTwrmbNwAm6wDT4wpz2/cough-heavy.wav\n",
      "Read audio failed for Coswara-Data/20210930/1NQvmLMrJyTwrmbNwAm6wDT4wpz2/cough-shallow.wav\n"
     ]
    },
    {
     "name": "stderr",
     "output_type": "stream",
     "text": [
      " 79%|███████▉  | 1254/1584 [09:34<01:33,  3.51it/s]"
     ]
    },
    {
     "name": "stdout",
     "output_type": "stream",
     "text": [
      "Read audio failed for Coswara-Data/20210930/A58WTjeBHaSeuC3PPfLPo3RiEgt2/cough-heavy.wav\n",
      "Read audio failed for Coswara-Data/20210930/A58WTjeBHaSeuC3PPfLPo3RiEgt2/cough-shallow.wav\n"
     ]
    },
    {
     "name": "stderr",
     "output_type": "stream",
     "text": [
      " 80%|███████▉  | 1261/1584 [09:36<01:35,  3.37it/s]"
     ]
    },
    {
     "name": "stdout",
     "output_type": "stream",
     "text": [
      "Read audio failed for Coswara-Data/20210930/eR2gfqeYAjdgzpwtCDXUqts9yIc2/cough-heavy.wav\n",
      "Read audio failed for Coswara-Data/20210930/eR2gfqeYAjdgzpwtCDXUqts9yIc2/cough-shallow.wav\n"
     ]
    },
    {
     "name": "stderr",
     "output_type": "stream",
     "text": [
      " 80%|███████▉  | 1267/1584 [09:38<01:41,  3.12it/s]"
     ]
    },
    {
     "name": "stdout",
     "output_type": "stream",
     "text": [
      "Read audio failed for Coswara-Data/20210930/GKupow0m24SgP8whGGJBZrPbS9k2/cough-heavy.wav\n",
      "Read audio failed for Coswara-Data/20210930/GKupow0m24SgP8whGGJBZrPbS9k2/cough-shallow.wav\n"
     ]
    },
    {
     "name": "stderr",
     "output_type": "stream",
     "text": [
      " 82%|████████▏ | 1297/1584 [09:48<01:30,  3.18it/s]"
     ]
    },
    {
     "name": "stdout",
     "output_type": "stream",
     "text": [
      "Read audio failed for Coswara-Data/20210930/UKrkCs1fdsVnZ7EfqWJCRxvIyZ22/cough-heavy.wav\n",
      "Read audio failed for Coswara-Data/20210930/UKrkCs1fdsVnZ7EfqWJCRxvIyZ22/cough-shallow.wav\n"
     ]
    },
    {
     "name": "stderr",
     "output_type": "stream",
     "text": [
      " 82%|████████▏ | 1299/1584 [09:49<01:32,  3.09it/s]"
     ]
    },
    {
     "name": "stdout",
     "output_type": "stream",
     "text": [
      "Read audio failed for Coswara-Data/20210930/wFhImPjbZkWVRY7xDoz2PmS5X8R2/cough-heavy.wav\n"
     ]
    },
    {
     "name": "stderr",
     "output_type": "stream",
     "text": [
      " 82%|████████▏ | 1300/1584 [09:49<01:37,  2.90it/s]"
     ]
    },
    {
     "name": "stdout",
     "output_type": "stream",
     "text": [
      "Read audio failed for Coswara-Data/20210930/wFhImPjbZkWVRY7xDoz2PmS5X8R2/cough-shallow.wav\n"
     ]
    },
    {
     "name": "stderr",
     "output_type": "stream",
     "text": [
      " 82%|████████▏ | 1302/1584 [09:50<01:29,  3.15it/s]"
     ]
    },
    {
     "name": "stdout",
     "output_type": "stream",
     "text": [
      "Read audio failed for Coswara-Data/20210930/wRIACcPu2dS0xiHj6O7O4eJXKT53/cough-heavy.wav\n",
      "Read audio failed for Coswara-Data/20210930/wRIACcPu2dS0xiHj6O7O4eJXKT53/cough-shallow.wav\n"
     ]
    },
    {
     "name": "stderr",
     "output_type": "stream",
     "text": [
      " 83%|████████▎ | 1308/1584 [09:52<01:26,  3.18it/s]"
     ]
    },
    {
     "name": "stdout",
     "output_type": "stream",
     "text": [
      "Read audio failed for Coswara-Data/20210930/YE3Hs5yD9BeIzT8cctZEBKGJIXN2/cough-heavy.wav\n",
      "Read audio failed for Coswara-Data/20210930/YE3Hs5yD9BeIzT8cctZEBKGJIXN2/cough-shallow.wav\n"
     ]
    },
    {
     "name": "stderr",
     "output_type": "stream",
     "text": [
      " 84%|████████▍ | 1338/1584 [10:05<01:54,  2.15it/s]"
     ]
    },
    {
     "name": "stdout",
     "output_type": "stream",
     "text": [
      "Read audio failed for Coswara-Data/20220116/DzSbdHq5VTZB8CaVDWSnSUai5mt2/cough-heavy.wav\n",
      "Read audio failed for Coswara-Data/20220116/DzSbdHq5VTZB8CaVDWSnSUai5mt2/cough-shallow.wav\n"
     ]
    },
    {
     "name": "stderr",
     "output_type": "stream",
     "text": [
      " 98%|█████████▊| 1560/1584 [11:36<00:08,  2.88it/s]"
     ]
    },
    {
     "name": "stdout",
     "output_type": "stream",
     "text": [
      "Read audio failed for Coswara-Data/20220224/Wmyru2tTpETZZUPASSqg7gJjev02/cough-heavy.wav\n",
      "Read audio failed for Coswara-Data/20220224/Wmyru2tTpETZZUPASSqg7gJjev02/cough-shallow.wav\n"
     ]
    },
    {
     "name": "stderr",
     "output_type": "stream",
     "text": [
      "100%|█████████▉| 1579/1584 [11:44<00:02,  2.37it/s]"
     ]
    },
    {
     "name": "stdout",
     "output_type": "stream",
     "text": [
      "Read audio failed for Coswara-Data/20220224/YRn1xdEIHufqa6lRl35Lg1YUXoJ3/cough-heavy.wav\n",
      "Read audio failed for Coswara-Data/20220224/YRn1xdEIHufqa6lRl35Lg1YUXoJ3/cough-shallow.wav\n"
     ]
    },
    {
     "name": "stderr",
     "output_type": "stream",
     "text": [
      "100%|██████████| 1584/1584 [11:46<00:00,  2.24it/s]\n"
     ]
    },
    {
     "name": "stdout",
     "output_type": "stream",
     "text": [
      "Extracting melspectrogram for validation set...\n"
     ]
    },
    {
     "name": "stderr",
     "output_type": "stream",
     "text": [
      "  2%|▏         | 9/397 [00:05<03:43,  1.73it/s]"
     ]
    },
    {
     "name": "stdout",
     "output_type": "stream",
     "text": [
      "Read audio failed for Coswara-Data/20200413/UiUUhL0PMjWVA6W2dKte1DCE6wG2/cough-heavy.wav\n",
      "Read audio failed for Coswara-Data/20200413/UiUUhL0PMjWVA6W2dKte1DCE6wG2/cough-shallow.wav\n"
     ]
    },
    {
     "name": "stderr",
     "output_type": "stream",
     "text": [
      " 52%|█████▏    | 205/397 [01:34<01:09,  2.77it/s]"
     ]
    },
    {
     "name": "stdout",
     "output_type": "stream",
     "text": [
      "Read audio failed for Coswara-Data/20201221/9z2XQAVyIkb0saZVigWBr3MsDcr1/cough-shallow.wav\n"
     ]
    },
    {
     "name": "stderr",
     "output_type": "stream",
     "text": [
      " 72%|███████▏  | 287/397 [02:10<00:33,  3.27it/s]"
     ]
    },
    {
     "name": "stdout",
     "output_type": "stream",
     "text": [
      "Read audio failed for Coswara-Data/20210714/dpA0EeRrtJUeKJjEuf7BL0AeTJZ2/cough-shallow.wav\n"
     ]
    },
    {
     "name": "stderr",
     "output_type": "stream",
     "text": [
      " 73%|███████▎  | 290/397 [02:12<00:48,  2.23it/s]"
     ]
    },
    {
     "name": "stdout",
     "output_type": "stream",
     "text": [
      "Read audio failed for Coswara-Data/20210714/J2KBR20S1lOfFS2iA7UyuOBOmgq1/cough-heavy.wav\n",
      "Read audio failed for Coswara-Data/20210714/J2KBR20S1lOfFS2iA7UyuOBOmgq1/cough-shallow.wav\n"
     ]
    },
    {
     "name": "stderr",
     "output_type": "stream",
     "text": [
      " 75%|███████▌  | 299/397 [02:15<00:31,  3.09it/s]"
     ]
    },
    {
     "name": "stdout",
     "output_type": "stream",
     "text": [
      "Read audio failed for Coswara-Data/20210816/JCUp9v6I7uNudJfxbx2MVKIJsn42/cough-heavy.wav\n",
      "Read audio failed for Coswara-Data/20210816/JCUp9v6I7uNudJfxbx2MVKIJsn42/cough-shallow.wav\n"
     ]
    },
    {
     "name": "stderr",
     "output_type": "stream",
     "text": [
      " 78%|███████▊  | 308/397 [02:18<00:37,  2.39it/s]"
     ]
    },
    {
     "name": "stdout",
     "output_type": "stream",
     "text": [
      "Read audio failed for Coswara-Data/20210830/8FB1tjOY8mbxWnL3QfuB1bywCA83/cough-heavy.wav\n",
      "Read audio failed for Coswara-Data/20210830/8FB1tjOY8mbxWnL3QfuB1bywCA83/cough-shallow.wav\n"
     ]
    },
    {
     "name": "stderr",
     "output_type": "stream",
     "text": [
      " 78%|███████▊  | 309/397 [02:19<00:36,  2.41it/s]"
     ]
    },
    {
     "name": "stdout",
     "output_type": "stream",
     "text": [
      "Read audio failed for Coswara-Data/20210830/DKKyIfK2wWVheujgbhkDKzpEHJE3/cough-heavy.wav\n"
     ]
    },
    {
     "name": "stderr",
     "output_type": "stream",
     "text": [
      " 78%|███████▊  | 311/397 [02:19<00:28,  3.05it/s]"
     ]
    },
    {
     "name": "stdout",
     "output_type": "stream",
     "text": [
      "Read audio failed for Coswara-Data/20210830/DKKyIfK2wWVheujgbhkDKzpEHJE3/cough-shallow.wav\n",
      "Read audio failed for Coswara-Data/20210830/EcZEa8IomxYk9MmRANz215imk8N2/cough-heavy.wav\n",
      "Read audio failed for Coswara-Data/20210830/EcZEa8IomxYk9MmRANz215imk8N2/cough-shallow.wav\n"
     ]
    },
    {
     "name": "stderr",
     "output_type": "stream",
     "text": [
      " 80%|███████▉  | 316/397 [02:21<00:21,  3.73it/s]"
     ]
    },
    {
     "name": "stdout",
     "output_type": "stream",
     "text": [
      "Read audio failed for Coswara-Data/20210830/plyCfBNtOnbjBXIVa996Dq1EJ5u2/cough-heavy.wav\n",
      "Read audio failed for Coswara-Data/20210830/plyCfBNtOnbjBXIVa996Dq1EJ5u2/cough-shallow.wav\n"
     ]
    },
    {
     "name": "stderr",
     "output_type": "stream",
     "text": [
      " 83%|████████▎ | 328/397 [02:26<00:23,  2.90it/s]"
     ]
    },
    {
     "name": "stdout",
     "output_type": "stream",
     "text": [
      "Read audio failed for Coswara-Data/20210930/fxKtohOugAVxds721TRXR8GVmn02/cough-heavy.wav\n",
      "Read audio failed for Coswara-Data/20210930/fxKtohOugAVxds721TRXR8GVmn02/cough-shallow.wav\n"
     ]
    },
    {
     "name": "stderr",
     "output_type": "stream",
     "text": [
      " 84%|████████▍ | 334/397 [02:27<00:17,  3.53it/s]"
     ]
    },
    {
     "name": "stdout",
     "output_type": "stream",
     "text": [
      "Read audio failed for Coswara-Data/20210930/yTldbEFYIkOvoaY6f0elulpdzxQ2/cough-heavy.wav\n",
      "Read audio failed for Coswara-Data/20210930/yTldbEFYIkOvoaY6f0elulpdzxQ2/cough-shallow.wav\n"
     ]
    },
    {
     "name": "stderr",
     "output_type": "stream",
     "text": [
      " 88%|████████▊ | 350/397 [02:35<00:23,  2.03it/s]"
     ]
    },
    {
     "name": "stdout",
     "output_type": "stream",
     "text": [
      "Read audio failed for Coswara-Data/20220116/y3qWUVLhMeQvpdfsClkugyMnBmH3/cough-heavy.wav\n",
      "Read audio failed for Coswara-Data/20220116/y3qWUVLhMeQvpdfsClkugyMnBmH3/cough-shallow.wav\n"
     ]
    },
    {
     "name": "stderr",
     "output_type": "stream",
     "text": [
      "100%|██████████| 397/397 [02:53<00:00,  2.29it/s]\n"
     ]
    }
   ],
   "source": [
    "from tqdm import tqdm\n",
    "\n",
    "audio_names = ['cough-heavy.wav', 'cough-shallow.wav']\n",
    "\n",
    "def get_data(df, audio_folder, audio_names):\n",
    "    data = []\n",
    "    for folder in tqdm(audio_folder):\n",
    "        for audio_name in audio_names:\n",
    "            try:\n",
    "                #d = extract_melspectrogram_image(folder, audio_name) # uncomment this line to save melspectrogram image\n",
    "                #d = extract_melspectrogram(folder, audio_name) # uncomment this line to save melspectrogram\n",
    "                d = get_features(folder, audio_name) # uncomment this line to save melspectrogram features\n",
    "                label = df[df['id'] == folder.split('/')[-1]]['covid_status'].values[0]\n",
    "                data.append((d, label))\n",
    "            except:\n",
    "                continue\n",
    "    data = np.array(data)\n",
    "    return data\n",
    "\n",
    "print('Extracting melspectrogram for test set...')\n",
    "test_data = get_data(test, test_audio_folder, audio_names)\n",
    "np.save('test_data.npy', test_data)\n",
    "\n",
    "print('Extracting melspectrogram for train set...')\n",
    "train_data = get_data(train, train_audio_folder, audio_names)\n",
    "np.save('train_data.npy', train_data)\n",
    "\n",
    "print('Extracting melspectrogram for validation set...')\n",
    "val_data = get_data(val, val_audio_folder, audio_names)\n",
    "np.save('val_data.npy', val_data)"
   ]
  },
  {
   "attachments": {},
   "cell_type": "markdown",
   "metadata": {},
   "source": [
    "# Create CNN model for classification"
   ]
  },
  {
   "cell_type": "code",
   "execution_count": 80,
   "metadata": {},
   "outputs": [],
   "source": [
    "import numpy as np\n",
    "\n",
    "train_data = np.load('train_data.npy', allow_pickle=True)\n",
    "val_data = np.load('val_data.npy', allow_pickle=True)\n",
    "test_data = np.load('test_data.npy', allow_pickle=True)"
   ]
  },
  {
   "cell_type": "code",
   "execution_count": 81,
   "metadata": {},
   "outputs": [
    {
     "name": "stdout",
     "output_type": "stream",
     "text": [
      "Model: \"sequential_14\"\n",
      "_________________________________________________________________\n",
      " Layer (type)                Output Shape              Param #   \n",
      "=================================================================\n",
      " conv2d_42 (Conv2D)          (None, 128, 128, 8)       80        \n",
      "                                                                 \n",
      " max_pooling2d_42 (MaxPoolin  (None, 64, 64, 8)        0         \n",
      " g2D)                                                            \n",
      "                                                                 \n",
      " batch_normalization_24 (Bat  (None, 64, 64, 8)        32        \n",
      " chNormalization)                                                \n",
      "                                                                 \n",
      " conv2d_43 (Conv2D)          (None, 64, 64, 16)        1168      \n",
      "                                                                 \n",
      " max_pooling2d_43 (MaxPoolin  (None, 32, 32, 16)       0         \n",
      " g2D)                                                            \n",
      "                                                                 \n",
      " batch_normalization_25 (Bat  (None, 32, 32, 16)       64        \n",
      " chNormalization)                                                \n",
      "                                                                 \n",
      " conv2d_44 (Conv2D)          (None, 32, 32, 32)        4640      \n",
      "                                                                 \n",
      " max_pooling2d_44 (MaxPoolin  (None, 16, 16, 32)       0         \n",
      " g2D)                                                            \n",
      "                                                                 \n",
      " batch_normalization_26 (Bat  (None, 16, 16, 32)       128       \n",
      " chNormalization)                                                \n",
      "                                                                 \n",
      " dropout_10 (Dropout)        (None, 16, 16, 32)        0         \n",
      "                                                                 \n",
      " flatten_14 (Flatten)        (None, 8192)              0         \n",
      "                                                                 \n",
      " dense_28 (Dense)            (None, 128)               1048704   \n",
      "                                                                 \n",
      " dense_29 (Dense)            (None, 2)                 258       \n",
      "                                                                 \n",
      "=================================================================\n",
      "Total params: 1,055,074\n",
      "Trainable params: 1,054,962\n",
      "Non-trainable params: 112\n",
      "_________________________________________________________________\n"
     ]
    }
   ],
   "source": [
    "import tensorflow as tf\n",
    "\n",
    "def create_model():\n",
    "    model = tf.keras.Sequential([\n",
    "        tf.keras.layers.Conv2D(8, 3, activation='relu', input_shape=(128, 128, 1), padding='same'),\n",
    "        tf.keras.layers.MaxPooling2D(),\n",
    "        tf.keras.layers.BatchNormalization(),\n",
    "        tf.keras.layers.Conv2D(16, 3, activation='relu', padding='same'),\n",
    "        tf.keras.layers.MaxPooling2D(),\n",
    "        tf.keras.layers.BatchNormalization(),\n",
    "        tf.keras.layers.Conv2D(32, 3, activation='relu', padding='same'),\n",
    "        tf.keras.layers.MaxPooling2D(),\n",
    "        tf.keras.layers.BatchNormalization(),\n",
    "        tf.keras.layers.Dropout(0.2),\n",
    "        tf.keras.layers.Flatten(),\n",
    "        tf.keras.layers.Dense(128, activation='relu'),\n",
    "        tf.keras.layers.Dense(2, activation='softmax')\n",
    "    ])\n",
    "    \n",
    "    model.compile(optimizer='adam',\n",
    "                  loss='sparse_categorical_crossentropy',\n",
    "                  metrics=['accuracy'])\n",
    "    \n",
    "    return model\n",
    "\n",
    "model = create_model()\n",
    "model.summary()"
   ]
  },
  {
   "attachments": {},
   "cell_type": "markdown",
   "metadata": {},
   "source": [
    "### Get the labels"
   ]
  },
  {
   "cell_type": "code",
   "execution_count": 82,
   "metadata": {},
   "outputs": [],
   "source": [
    "train_labels = np.array([label for _, label in train_data])\n",
    "val_labels = np.array([label for _, label in val_data])\n",
    "test_labels = np.array([label for _, label in test_data])"
   ]
  },
  {
   "attachments": {},
   "cell_type": "markdown",
   "metadata": {},
   "source": [
    "### Get and resize the mel-spectrograms"
   ]
  },
  {
   "cell_type": "code",
   "execution_count": 83,
   "metadata": {},
   "outputs": [],
   "source": [
    "import skimage\n",
    "\n",
    "def resize_melspectrogram(melspectrogram):\n",
    "    return skimage.transform.resize(melspectrogram, (128, 128))\n",
    "\n",
    "train_melspectrogram = np.array([resize_melspectrogram(melspectrogram) for melspectrogram, _ in train_data])\n",
    "val_melspectrogram = np.array([resize_melspectrogram(melspectrogram) for melspectrogram, _ in val_data])\n",
    "test_melspectrogram = np.array([resize_melspectrogram(melspectrogram) for melspectrogram, _ in test_data])"
   ]
  },
  {
   "attachments": {},
   "cell_type": "markdown",
   "metadata": {},
   "source": [
    "### Binarize the labels"
   ]
  },
  {
   "cell_type": "code",
   "execution_count": 84,
   "metadata": {},
   "outputs": [],
   "source": [
    "train_labels = (train_labels == 'positive').astype(int)\n",
    "val_labels = (val_labels == 'positive').astype(int)\n",
    "test_labels = (test_labels == 'positive').astype(int)"
   ]
  },
  {
   "attachments": {},
   "cell_type": "markdown",
   "metadata": {},
   "source": [
    "### Train the model"
   ]
  },
  {
   "cell_type": "code",
   "execution_count": 85,
   "metadata": {},
   "outputs": [
    {
     "name": "stdout",
     "output_type": "stream",
     "text": [
      "Epoch 1/10\n",
      "97/97 [==============================] - 9s 88ms/step - loss: 0.7159 - accuracy: 0.6704 - val_loss: 0.5818 - val_accuracy: 0.6917\n",
      "Epoch 2/10\n",
      "97/97 [==============================] - 8s 80ms/step - loss: 0.5409 - accuracy: 0.7122 - val_loss: 0.5770 - val_accuracy: 0.7254\n",
      "Epoch 3/10\n",
      "97/97 [==============================] - 8s 83ms/step - loss: 0.5123 - accuracy: 0.7333 - val_loss: 0.6188 - val_accuracy: 0.6438\n",
      "Epoch 4/10\n",
      "97/97 [==============================] - 8s 80ms/step - loss: 0.4435 - accuracy: 0.7797 - val_loss: 0.5825 - val_accuracy: 0.6917\n",
      "Epoch 5/10\n",
      "97/97 [==============================] - 8s 84ms/step - loss: 0.3607 - accuracy: 0.8247 - val_loss: 0.6161 - val_accuracy: 0.7111\n",
      "Epoch 6/10\n",
      "97/97 [==============================] - 8s 87ms/step - loss: 0.2612 - accuracy: 0.8892 - val_loss: 0.7093 - val_accuracy: 0.7124\n",
      "Epoch 7/10\n",
      "97/97 [==============================] - 9s 90ms/step - loss: 0.1813 - accuracy: 0.9268 - val_loss: 0.9439 - val_accuracy: 0.7241\n",
      "Epoch 8/10\n",
      "97/97 [==============================] - 7s 74ms/step - loss: 0.1106 - accuracy: 0.9637 - val_loss: 0.9942 - val_accuracy: 0.6930\n",
      "Epoch 9/10\n",
      "97/97 [==============================] - 8s 87ms/step - loss: 0.0845 - accuracy: 0.9728 - val_loss: 1.1436 - val_accuracy: 0.7111\n",
      "Epoch 10/10\n",
      "97/97 [==============================] - 8s 84ms/step - loss: 0.0698 - accuracy: 0.9770 - val_loss: 1.1658 - val_accuracy: 0.6917\n"
     ]
    }
   ],
   "source": [
    "epochs = 10\n",
    "batch_size = 32\n",
    "history = model.fit(train_melspectrogram, train_labels, batch_size=batch_size, epochs=epochs, validation_data=(val_melspectrogram, val_labels))"
   ]
  },
  {
   "attachments": {},
   "cell_type": "markdown",
   "metadata": {},
   "source": [
    "### Plot the training and validation accuracy/loss per epoch"
   ]
  },
  {
   "cell_type": "code",
   "execution_count": 86,
   "metadata": {},
   "outputs": [
    {
     "data": {
      "text/plain": [
       "Text(0.5, 1.0, 'Training and Validation Loss')"
      ]
     },
     "execution_count": 86,
     "metadata": {},
     "output_type": "execute_result"
    },
    {
     "data": {
      "image/png": "[encoded data removed]",
      "text/plain": [
       "<Figure size 576x576 with 2 Axes>"
      ]
     },
     "metadata": {
      "needs_background": "light"
     },
     "output_type": "display_data"
    }
   ],
   "source": [
    "import matplotlib.pyplot as plt\n",
    "\n",
    "acc = history.history['accuracy']\n",
    "val_acc = history.history['val_accuracy']\n",
    "\n",
    "loss = history.history['loss']\n",
    "val_loss = history.history['val_loss']\n",
    "\n",
    "epochs_range = range(epochs)\n",
    "\n",
    "plt.figure(figsize=(8, 8))\n",
    "plt.subplot(1, 2, 1)\n",
    "plt.plot(epochs_range, acc, label='Training Accuracy')\n",
    "plt.plot(epochs_range, val_acc, label='Validation Accuracy')\n",
    "plt.legend(loc='lower right')\n",
    "plt.title('Training and Validation Accuracy')\n",
    "\n",
    "plt.subplot(1, 2, 2)\n",
    "plt.plot(epochs_range, loss, label='Training Loss')\n",
    "plt.plot(epochs_range, val_loss, label='Validation Loss')\n",
    "plt.legend(loc='upper right')\n",
    "plt.title('Training and Validation Loss')"
   ]
  },
  {
   "attachments": {},
   "cell_type": "markdown",
   "metadata": {},
   "source": [
    "### Evaluate the model"
   ]
  },
  {
   "cell_type": "code",
   "execution_count": 87,
   "metadata": {},
   "outputs": [
    {
     "name": "stdout",
     "output_type": "stream",
     "text": [
      "31/31 [==============================] - 0s 15ms/step - loss: 1.0922 - accuracy: 0.6867\n"
     ]
    },
    {
     "data": {
      "text/plain": [
       "[1.0922260284423828, 0.6867219805717468]"
      ]
     },
     "execution_count": 87,
     "metadata": {},
     "output_type": "execute_result"
    }
   ],
   "source": [
    "model.evaluate(test_melspectrogram, test_labels)"
   ]
  },
  {
   "attachments": {},
   "cell_type": "markdown",
   "metadata": {},
   "source": [
    "### Get confusion matrix"
   ]
  },
  {
   "cell_type": "code",
   "execution_count": 88,
   "metadata": {},
   "outputs": [
    {
     "data": {
      "text/plain": [
       "<AxesSubplot:>"
      ]
     },
     "execution_count": 88,
     "metadata": {},
     "output_type": "execute_result"
    },
    {
     "data": {
      "image/png": "[encoded data removed]",
      "text/plain": [
       "<Figure size 432x288 with 2 Axes>"
      ]
     },
     "metadata": {
      "needs_background": "light"
     },
     "output_type": "display_data"
    }
   ],
   "source": [
    "from sklearn.metrics import confusion_matrix\n",
    "import seaborn as sns\n",
    "\n",
    "predictions = model.predict(test_melspectrogram)\n",
    "\n",
    "cm = confusion_matrix(test_labels, np.argmax(predictions, axis=1))\n",
    "sns.heatmap(cm, annot=True, fmt='d')"
   ]
  },
  {
   "attachments": {},
   "cell_type": "markdown",
   "metadata": {},
   "source": [
    "### Save the model"
   ]
  },
  {
   "cell_type": "code",
   "execution_count": null,
   "metadata": {},
   "outputs": [],
   "source": [
    "model.save('covid_cough_classifier.h5')"
   ]
  }
 ],
 "metadata": {
  "kernelspec": {
   "display_name": "Python 3",
   "language": "python",
   "name": "python3"
  },
  "language_info": {
   "codemirror_mode": {
    "name": "ipython",
    "version": 3
   },
   "file_extension": ".py",
   "mimetype": "text/x-python",
   "name": "python",
   "nbconvert_exporter": "python",
   "pygments_lexer": "ipython3",
   "version": "3.10.8"
  },
  "orig_nbformat": 4,
  "vscode": {
   "interpreter": {
    "hash": "97cc609b13305c559618ec78a438abc56230b9381f827f22d070313b9a1f3777"
   }
  }
 },
 "nbformat": 4,
 "nbformat_minor": 2
}
